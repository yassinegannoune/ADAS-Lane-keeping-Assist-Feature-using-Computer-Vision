{
 "cells": [
  {
   "cell_type": "code",
   "execution_count": 2,
   "id": "adca9ba7",
   "metadata": {},
   "outputs": [
    {
     "name": "stdout",
     "output_type": "stream",
     "text": [
      "Frames saved: 791\n"
     ]
    }
   ],
   "source": [
    "import os\n",
    "import cv2\n",
    "\n",
    "def save_frames_from_video(video_path, output_directory):\n",
    "    video_capture = cv2.VideoCapture(video_path)\n",
    "    if not video_capture.isOpened():\n",
    "        print(f\"Error opening video file: {video_path}\")\n",
    "        return\n",
    "    fps = video_capture.get(cv2.CAP_PROP_FPS)\n",
    "    frame_count = 0\n",
    "    frame_interval = int(round(fps))  \n",
    "    os.makedirs(output_directory, exist_ok=True)\n",
    "\n",
    "    while True:\n",
    "        ret, frame = video_capture.read()\n",
    "        if not ret:\n",
    "            break\n",
    "        if frame_count % frame_interval == 0:\n",
    "            output_name = os.path.join(output_directory, f\"calibration{frame_count:04d}.jpg\")\n",
    "            cv2.imwrite(output_name, frame)\n",
    "        frame_count += 1\n",
    "    video_capture.release()\n",
    "    print(f\"Frames saved: {frame_count}\")\n",
    "video_path = 'project_video_result_1_3.mp4'\n",
    "output_directory = 'virages_test_images/'\n",
    "save_frames_from_video(video_path, output_directory)\n"
   ]
  }
 ],
 "metadata": {
  "kernelspec": {
   "display_name": "Python 3 (ipykernel)",
   "language": "python",
   "name": "python3"
  },
  "language_info": {
   "codemirror_mode": {
    "name": "ipython",
    "version": 3
   },
   "file_extension": ".py",
   "mimetype": "text/x-python",
   "name": "python",
   "nbconvert_exporter": "python",
   "pygments_lexer": "ipython3",
   "version": "3.10.9"
  }
 },
 "nbformat": 4,
 "nbformat_minor": 5
}
